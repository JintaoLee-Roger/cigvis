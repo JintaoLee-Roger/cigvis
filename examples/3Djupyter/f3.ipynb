{
 "cells": [
  {
   "cell_type": "code",
   "execution_count": null,
   "metadata": {},
   "outputs": [],
   "source": [
    "%load_ext autoreload\n",
    "%autoreload 2"
   ]
  },
  {
   "cell_type": "code",
   "execution_count": null,
   "metadata": {},
   "outputs": [],
   "source": [
    "import cigvis\n",
    "from cigvis import colormap\n",
    "import plotly\n",
    "import numpy as np\n",
    "import matplotlib.pyplot as plt"
   ]
  },
  {
   "cell_type": "code",
   "execution_count": null,
   "metadata": {},
   "outputs": [],
   "source": [
    "root = '/Users/lijintao/Downloads/data/F3/'\n",
    "seisp = root + 'seis.dat'\n",
    "saltp = root + 'salt.dat'\n",
    "hz2p = root + 'hz.dat'\n",
    "unc1p = root + 'unc1.dat'\n",
    "unc2p = root + 'unc2.dat'\n",
    "ni, nx, nt = 591, 951, 362\n",
    "shape = (ni, nx, nt)\n",
    "\n"
   ]
  },
  {
   "cell_type": "code",
   "execution_count": null,
   "metadata": {},
   "outputs": [],
   "source": [
    "def load_well_logs(logsp):\n",
    "    nlog = 4\n",
    "    npoints = 2121\n",
    "    x = [259, 619, 339, 141]\n",
    "    y = [33, 545, 704, 84]\n",
    "    z = np.arange(0, 0.2 * npoints, 0.2)\n",
    "    v = np.fromfile(logsp, np.float32).reshape(nlog, npoints)\n",
    "    v = 0.5 * np.log(v)\n",
    "    nodes = []\n",
    "    for i in range(nlog):\n",
    "        points = np.c_[np.ones(npoints) * x[i], np.ones(npoints) * y[i], z, v[i]]\n",
    "        nodes += cigvis.create_Line_logs(points)\n",
    "    return nodes"
   ]
  },
  {
   "cell_type": "code",
   "execution_count": null,
   "metadata": {},
   "outputs": [],
   "source": [
    "# seismic\n",
    "seis = np.memmap(seisp, np.float32, 'c', shape=shape)\n",
    "# overlay\n",
    "inter = np.memmap(root + 'overlay.dat', np.float32, 'c', shape=shape)\n",
    "\n",
    "salt = np.memmap(saltp, np.float32, 'c', shape=shape)\n",
    "hz2 = np.fromfile(hz2p, np.float32).reshape(ni, nx)\n",
    "unc = np.fromfile(root + 'unc.dat', np.float32).reshape(shape)\n",
    "unc2 = np.fromfile(unc2p, np.float32).reshape(ni, nx).astype(np.float32)"
   ]
  },
  {
   "cell_type": "code",
   "execution_count": null,
   "metadata": {},
   "outputs": [],
   "source": [
    "fg_cmap = colormap.set_alpha('jet', 0.6, False)\n",
    "fg_clim = [inter.max() * 0.15, inter.max() * 0.5]\n",
    "nodes = []\n",
    "nodes += cigvis.create_overlay(seis, \n",
    "                              inter,\n",
    "                              pos=[ni - 2, 25, nt - 2], \n",
    "                              bg_cmap='gray', \n",
    "                              bg_clim=[-2.0, 1.5], \n",
    "                              fg_cmap=fg_cmap,\n",
    "                              fg_clim=fg_clim,)\n",
    "\n",
    "nodes += cigvis.create_bodys(salt, 0.0, 0.0, color='cyan')\n",
    "nodes += cigvis.create_surfaces([hz2], volume=seis, value_type='amp', \n",
    "                                cmap='gray', \n",
    "                                clim=[-2.0, 1.5])\n",
    "nodes += cigvis.create_surfaces([unc2], volume=unc, value_type='amp')\n",
    "nodes += load_well_logs(root+'logs.dat')\n",
    "\n",
    "\n",
    "cigvis.plot3D(nodes, \n",
    "              aspectratio=dict(x=ni/nx,y=1,z=nt/nx*1.7), \n",
    "              aspectmode='manual',\n",
    "              savequality=5)"
   ]
  }
 ],
 "metadata": {
  "kernelspec": {
   "display_name": "base",
   "language": "python",
   "name": "python3"
  },
  "language_info": {
   "codemirror_mode": {
    "name": "ipython",
    "version": 3
   },
   "file_extension": ".py",
   "mimetype": "text/x-python",
   "name": "python",
   "nbconvert_exporter": "python",
   "pygments_lexer": "ipython3",
   "version": "3.11.5"
  }
 },
 "nbformat": 4,
 "nbformat_minor": 2
}
